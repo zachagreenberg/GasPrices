{
 "cells": [
  {
   "cell_type": "markdown",
   "metadata": {},
   "source": [
    "# Data Collection"
   ]
  },
  {
   "cell_type": "markdown",
   "metadata": {},
   "source": [
    "## Importing Libraries"
   ]
  },
  {
   "cell_type": "code",
   "execution_count": 1,
   "metadata": {},
   "outputs": [],
   "source": [
    "#import libraries\n",
    "import requests\n",
    "import json\n",
    "import pandas as pd\n",
    "pd.set_option('display.max_columns', 40)\n",
    "pd.set_option('display.max_rows', 400)\n",
    "import os\n",
    "\n",
    "#I will use this to put the data into a SQL database to be queried\n",
    "from sqlalchemy import create_engine"
   ]
  },
  {
   "cell_type": "markdown",
   "metadata": {},
   "source": [
    "## API Key"
   ]
  },
  {
   "cell_type": "code",
   "execution_count": 2,
   "metadata": {},
   "outputs": [],
   "source": [
    "#import apikey\n",
    "from api_key import api_key as key"
   ]
  },
  {
   "cell_type": "markdown",
   "metadata": {},
   "source": [
    "# Data From EIA API"
   ]
  },
  {
   "cell_type": "code",
   "execution_count": 3,
   "metadata": {},
   "outputs": [],
   "source": [
    "#creating a dictionary to store the ids for url requests\n",
    "chart_dict = {}"
   ]
  },
  {
   "cell_type": "code",
   "execution_count": 4,
   "metadata": {},
   "outputs": [],
   "source": [
    "#list of charts for the url requests\n",
    "names = ['retail_gas_price',\n",
    "         'regular_gas_price', 'premium_gas_price', \n",
    "         'europe_brent', 'wti', 'oil_supply', 'crude_oil_production']\n",
    "#list of ids for the url requests\n",
    "series_ids = ['TOTAL.MGUCUUS.M',  \n",
    "              'PET.EMM_EPMR_PTE_NUS_DPG.M', 'PET.EMM_EPMP_PTE_NUS_DPG.M',\n",
    "             'PET.RBRTE.M', 'PET.RWTC.M', 'PET.MTTUA_NUS_1.M', 'TOTAL.PAPRP48.M']"
   ]
  },
  {
   "cell_type": "code",
   "execution_count": 5,
   "metadata": {},
   "outputs": [],
   "source": [
    "def get_chart(names, series_id):\n",
    "    \"\"\"\n",
    "    Takes in a list of names and series_ids\n",
    "    to create a dictionary of \n",
    "    chart names and urls\n",
    "    \"\"\"\n",
    "    urls = []\n",
    "    for i, n in enumerate(series_ids):\n",
    "        url = 'http://api.eia.gov/series/?api_key={}&series_id={}'.format(key, series_id[i])\n",
    "        urls.append(url)\n",
    "    \n",
    "    for i, n in enumerate(names):\n",
    "        chart_dict[names[i]] = urls[i]\n",
    "    return chart_dict"
   ]
  },
  {
   "cell_type": "code",
   "execution_count": 6,
   "metadata": {},
   "outputs": [],
   "source": [
    "def make_call(url_value):\n",
    "    \"\"\"\n",
    "    makes an API call\n",
    "    INPUT: the url\n",
    "    OUTPUT: the result of an API call\n",
    "    \"\"\"\n",
    "    \n",
    "    response = requests.get(url_value)\n",
    "    \n",
    "    return response.json()['series'][0]['data']"
   ]
  },
  {
   "cell_type": "code",
   "execution_count": 7,
   "metadata": {},
   "outputs": [],
   "source": [
    "#saving the dictionary of chart names and urls to a variable\n",
    "chart_dict = get_chart(names, series_ids)"
   ]
  },
  {
   "cell_type": "code",
   "execution_count": 8,
   "metadata": {},
   "outputs": [],
   "source": [
    "def data_to_df(chart_dict):\n",
    "    \n",
    "    \"\"\"\n",
    "    This function takes in the dictionary of names and urls.\n",
    "    From here it: Makes an API call, Sorts the data to be put in a\n",
    "    DataFrame, & Creates the DataFrame(s)\n",
    "    \"\"\"\n",
    "    \n",
    "    data = make_call(chart_dict[names[count]])\n",
    "    \n",
    "    #sorts the data by date\n",
    "    sorted_data = sorted(data, key = lambda x: x[0])\n",
    "\n",
    "    #adding a dash to the DATE columns to allow it to be parsed\n",
    "    for i, n in enumerate(sorted_data):\n",
    "        sorted_data[i][0] = sorted_data[i][0][:4] + '/' + sorted_data[i][0][4:]\n",
    "    \n",
    "    #creating a dictionary to create a dataframe\n",
    "    dataframe = {'date':[i[0] for i in sorted_data], names[count]:[j[1] for j in sorted_data]}\n",
    "\n",
    "    #checks to see if the DataFrame exists\n",
    "    path = os.path.exists('../Data/Prices.csv')\n",
    "    \n",
    "    if path == False:\n",
    "        \n",
    "        #creates an initial dataframe if there isn't one\n",
    "        df1 = pd.DataFrame(dataframe)\n",
    "\n",
    "        df1.to_csv('../Data/Prices.csv', index = False)\n",
    "\n",
    "    else:\n",
    "        #creates a new dataframe to be merged with the original\n",
    "        df2 = pd.DataFrame(dataframe)\n",
    "        \n",
    "        df1 = pd.read_csv('../Data/Prices.csv')\n",
    "        \n",
    "        gas_data = pd.merge( df1, df2, how = 'left')\n",
    "        \n",
    "        gas_data.to_csv('../Data/Prices.csv', index = False) \n",
    "        "
   ]
  },
  {
   "cell_type": "code",
   "execution_count": 9,
   "metadata": {},
   "outputs": [],
   "source": [
    "count = 0\n",
    "\n",
    "#iterating through the charts to have 1 combined dataframe\n",
    "while count != len(names):\n",
    "\n",
    "    data_to_df(chart_dict)\n",
    "    count +=1"
   ]
  },
  {
   "cell_type": "code",
   "execution_count": 10,
   "metadata": {},
   "outputs": [],
   "source": [
    "gas = pd.read_csv('../Data/Prices.csv')\n",
    "pd.set_option('display.max_columns', 40)\n",
    "\n",
    "pd.set_option('display.max_rows', 400)"
   ]
  },
  {
   "cell_type": "code",
   "execution_count": 11,
   "metadata": {},
   "outputs": [
    {
     "data": {
      "text/html": [
       "<div>\n",
       "<style scoped>\n",
       "    .dataframe tbody tr th:only-of-type {\n",
       "        vertical-align: middle;\n",
       "    }\n",
       "\n",
       "    .dataframe tbody tr th {\n",
       "        vertical-align: top;\n",
       "    }\n",
       "\n",
       "    .dataframe thead th {\n",
       "        text-align: right;\n",
       "    }\n",
       "</style>\n",
       "<table border=\"1\" class=\"dataframe\">\n",
       "  <thead>\n",
       "    <tr style=\"text-align: right;\">\n",
       "      <th></th>\n",
       "      <th>date</th>\n",
       "      <th>retail_gas_price</th>\n",
       "      <th>regular_gas_price</th>\n",
       "      <th>premium_gas_price</th>\n",
       "      <th>europe_brent</th>\n",
       "      <th>wti</th>\n",
       "      <th>oil_supply</th>\n",
       "      <th>crude_oil_production</th>\n",
       "    </tr>\n",
       "  </thead>\n",
       "  <tbody>\n",
       "    <tr>\n",
       "      <th>0</th>\n",
       "      <td>1973/01</td>\n",
       "      <td>NaN</td>\n",
       "      <td>NaN</td>\n",
       "      <td>NaN</td>\n",
       "      <td>NaN</td>\n",
       "      <td>NaN</td>\n",
       "      <td>NaN</td>\n",
       "      <td>8981.323</td>\n",
       "    </tr>\n",
       "    <tr>\n",
       "      <th>1</th>\n",
       "      <td>1973/02</td>\n",
       "      <td>NaN</td>\n",
       "      <td>NaN</td>\n",
       "      <td>NaN</td>\n",
       "      <td>NaN</td>\n",
       "      <td>NaN</td>\n",
       "      <td>NaN</td>\n",
       "      <td>9178.750</td>\n",
       "    </tr>\n",
       "  </tbody>\n",
       "</table>\n",
       "</div>"
      ],
      "text/plain": [
       "      date  retail_gas_price  regular_gas_price  premium_gas_price  \\\n",
       "0  1973/01               NaN                NaN                NaN   \n",
       "1  1973/02               NaN                NaN                NaN   \n",
       "\n",
       "   europe_brent  wti  oil_supply  crude_oil_production  \n",
       "0           NaN  NaN         NaN              8981.323  \n",
       "1           NaN  NaN         NaN              9178.750  "
      ]
     },
     "execution_count": 11,
     "metadata": {},
     "output_type": "execute_result"
    }
   ],
   "source": [
    "gas.head(2)"
   ]
  },
  {
   "cell_type": "code",
   "execution_count": 12,
   "metadata": {},
   "outputs": [
    {
     "data": {
      "text/plain": [
       "date                     object\n",
       "retail_gas_price        float64\n",
       "regular_gas_price       float64\n",
       "premium_gas_price       float64\n",
       "europe_brent            float64\n",
       "wti                     float64\n",
       "oil_supply              float64\n",
       "crude_oil_production    float64\n",
       "dtype: object"
      ]
     },
     "execution_count": 12,
     "metadata": {},
     "output_type": "execute_result"
    }
   ],
   "source": [
    "gas.dtypes"
   ]
  },
  {
   "cell_type": "markdown",
   "metadata": {},
   "source": [
    "# Data From Federal Reserve Economic Data"
   ]
  },
  {
   "cell_type": "code",
   "execution_count": 13,
   "metadata": {},
   "outputs": [],
   "source": [
    "def format_import_date(x):\n",
    "    '''\n",
    "    This function formats the dates in the imports csv\n",
    "    to make it compatible with the other data.\n",
    "    '''\n",
    "    x=str(x)+'-01-01'\n",
    "    return x"
   ]
  },
  {
   "cell_type": "code",
   "execution_count": 14,
   "metadata": {},
   "outputs": [],
   "source": [
    "#getting the imports data\n",
    "imports = pd.read_csv('../Data/additional_data/petroleum-consumption.csv', skiprows=4)\n",
    "imports.rename(columns={'year': 'date'}, inplace = True)\n",
    "imports = imports[['date', 'imports']]\n",
    "imports['date'] = imports['date'].apply(format_import_date)\n",
    "imports['date'] = pd.to_datetime(imports['date'])\n",
    "imports['date'] = imports['date'].astype('object')\n",
    "imports.to_csv('../Data/additional_data/imports.csv', index = False)"
   ]
  },
  {
   "cell_type": "code",
   "execution_count": 15,
   "metadata": {},
   "outputs": [],
   "source": [
    "imports = pd.read_csv('additional_data/imports.csv')"
   ]
  },
  {
   "cell_type": "code",
   "execution_count": 16,
   "metadata": {},
   "outputs": [
    {
     "data": {
      "text/html": [
       "<div>\n",
       "<style scoped>\n",
       "    .dataframe tbody tr th:only-of-type {\n",
       "        vertical-align: middle;\n",
       "    }\n",
       "\n",
       "    .dataframe tbody tr th {\n",
       "        vertical-align: top;\n",
       "    }\n",
       "\n",
       "    .dataframe thead th {\n",
       "        text-align: right;\n",
       "    }\n",
       "</style>\n",
       "<table border=\"1\" class=\"dataframe\">\n",
       "  <thead>\n",
       "    <tr style=\"text-align: right;\">\n",
       "      <th></th>\n",
       "      <th>date</th>\n",
       "      <th>imports</th>\n",
       "    </tr>\n",
       "  </thead>\n",
       "  <tbody>\n",
       "    <tr>\n",
       "      <th>0</th>\n",
       "      <td>1950-01-01 00:00:00</td>\n",
       "      <td>0.850</td>\n",
       "    </tr>\n",
       "    <tr>\n",
       "      <th>1</th>\n",
       "      <td>1951-01-01 00:00:00</td>\n",
       "      <td>0.844</td>\n",
       "    </tr>\n",
       "    <tr>\n",
       "      <th>2</th>\n",
       "      <td>1952-01-01 00:00:00</td>\n",
       "      <td>0.952</td>\n",
       "    </tr>\n",
       "    <tr>\n",
       "      <th>3</th>\n",
       "      <td>1953-01-01 00:00:00</td>\n",
       "      <td>1.034</td>\n",
       "    </tr>\n",
       "    <tr>\n",
       "      <th>4</th>\n",
       "      <td>1954-01-01 00:00:00</td>\n",
       "      <td>1.052</td>\n",
       "    </tr>\n",
       "  </tbody>\n",
       "</table>\n",
       "</div>"
      ],
      "text/plain": [
       "                  date  imports\n",
       "0  1950-01-01 00:00:00    0.850\n",
       "1  1951-01-01 00:00:00    0.844\n",
       "2  1952-01-01 00:00:00    0.952\n",
       "3  1953-01-01 00:00:00    1.034\n",
       "4  1954-01-01 00:00:00    1.052"
      ]
     },
     "execution_count": 16,
     "metadata": {},
     "output_type": "execute_result"
    }
   ],
   "source": [
    "imports.head()"
   ]
  },
  {
   "cell_type": "code",
   "execution_count": 17,
   "metadata": {},
   "outputs": [],
   "source": [
    "#list of the csv files for exogenous variables\n",
    "csv_list = ['employees_oil_extraction', 'imports', 'inflation']"
   ]
  },
  {
   "cell_type": "code",
   "execution_count": 18,
   "metadata": {},
   "outputs": [],
   "source": [
    "def add_new_data(csv_list, count):\n",
    "    \"\"\"\n",
    "    This function takes in list of csvs collected from\n",
    "    https://fred.stlouisfed.org/ & adds them to the main \n",
    "    dataset\n",
    "    \"\"\"\n",
    "    df = pd.read_csv('../Data/additional_data/{}.csv'.format(csv_list[count]))\n",
    "    \n",
    "    #changing the column names to match the main dataset\n",
    "    df.rename(columns={df.columns[0]:'date',df.columns[1]:csv_list[count]}, inplace = True)\n",
    "    \n",
    "    df['date'] = pd.to_datetime(df['date'])\n",
    "    df['date'] = df['date'].astype('object')\n",
    "    \n",
    "    df.to_csv('../Data/additional_data/{}.csv'.format(csv_list[count]), index = False)\n",
    "    \n",
    "     #checks to see if the DataFrame exists\n",
    "    path = os.path.exists('../Data/OutsideData.csv')\n",
    "    \n",
    "    if path == False:\n",
    "        \n",
    "        #creates an initial dataframe if there isn't one\n",
    "        df1 = pd.read_csv('../Data/additional_data/{}.csv'.format(csv_list[count]))\n",
    "\n",
    "        df1.to_csv('../Data/OutsideData.csv', index = False)\n",
    "\n",
    "    else:\n",
    "        #creates a new dataframe to be merged with the original\n",
    "        df2 = pd.read_csv('../Data/additional_data/{}.csv'.format(csv_list[count]))\n",
    "        \n",
    "        df1 = pd.read_csv('../Data/OutsideData.csv')\n",
    "        \n",
    "        outside_data = pd.merge( df1, df2, how = 'left')\n",
    "        \n",
    "        outside_data.to_csv('../Data/OutsideData.csv', index = False) "
   ]
  },
  {
   "cell_type": "code",
   "execution_count": 19,
   "metadata": {},
   "outputs": [],
   "source": [
    "count = 0\n",
    "\n",
    "#iterating through the csvs of exogenous variables to merge them with the dataframe\n",
    "while count != len(csv_list):\n",
    "    \n",
    "    add_new_data(csv_list, count)\n",
    "    count +=1"
   ]
  },
  {
   "cell_type": "code",
   "execution_count": 20,
   "metadata": {},
   "outputs": [
    {
     "data": {
      "text/html": [
       "<div>\n",
       "<style scoped>\n",
       "    .dataframe tbody tr th:only-of-type {\n",
       "        vertical-align: middle;\n",
       "    }\n",
       "\n",
       "    .dataframe tbody tr th {\n",
       "        vertical-align: top;\n",
       "    }\n",
       "\n",
       "    .dataframe thead th {\n",
       "        text-align: right;\n",
       "    }\n",
       "</style>\n",
       "<table border=\"1\" class=\"dataframe\">\n",
       "  <thead>\n",
       "    <tr style=\"text-align: right;\">\n",
       "      <th></th>\n",
       "      <th>date</th>\n",
       "      <th>employees_oil_extraction</th>\n",
       "      <th>imports</th>\n",
       "      <th>inflation</th>\n",
       "    </tr>\n",
       "  </thead>\n",
       "  <tbody>\n",
       "    <tr>\n",
       "      <th>0</th>\n",
       "      <td>1972-01-01 00:00:00</td>\n",
       "      <td>141.2</td>\n",
       "      <td>4.741</td>\n",
       "      <td>3.272278</td>\n",
       "    </tr>\n",
       "    <tr>\n",
       "      <th>1</th>\n",
       "      <td>1972-02-01 00:00:00</td>\n",
       "      <td>140.9</td>\n",
       "      <td>NaN</td>\n",
       "      <td>NaN</td>\n",
       "    </tr>\n",
       "    <tr>\n",
       "      <th>2</th>\n",
       "      <td>1972-03-01 00:00:00</td>\n",
       "      <td>140.8</td>\n",
       "      <td>NaN</td>\n",
       "      <td>NaN</td>\n",
       "    </tr>\n",
       "    <tr>\n",
       "      <th>3</th>\n",
       "      <td>1972-04-01 00:00:00</td>\n",
       "      <td>140.2</td>\n",
       "      <td>NaN</td>\n",
       "      <td>NaN</td>\n",
       "    </tr>\n",
       "    <tr>\n",
       "      <th>4</th>\n",
       "      <td>1972-05-01 00:00:00</td>\n",
       "      <td>139.6</td>\n",
       "      <td>NaN</td>\n",
       "      <td>NaN</td>\n",
       "    </tr>\n",
       "  </tbody>\n",
       "</table>\n",
       "</div>"
      ],
      "text/plain": [
       "                  date  employees_oil_extraction  imports  inflation\n",
       "0  1972-01-01 00:00:00                     141.2    4.741   3.272278\n",
       "1  1972-02-01 00:00:00                     140.9      NaN        NaN\n",
       "2  1972-03-01 00:00:00                     140.8      NaN        NaN\n",
       "3  1972-04-01 00:00:00                     140.2      NaN        NaN\n",
       "4  1972-05-01 00:00:00                     139.6      NaN        NaN"
      ]
     },
     "execution_count": 20,
     "metadata": {},
     "output_type": "execute_result"
    }
   ],
   "source": [
    "outside=pd.read_csv('../Data/OutsideData.csv')\n",
    "\n",
    "outside.head()"
   ]
  },
  {
   "cell_type": "markdown",
   "metadata": {},
   "source": [
    "# Data From Matteo Iacovello's GPR Dataset"
   ]
  },
  {
   "cell_type": "code",
   "execution_count": 21,
   "metadata": {},
   "outputs": [],
   "source": [
    "def format_date(x):\n",
    "    '''\n",
    "    This function is for the GPR data. It formats the date \n",
    "    column so it can be parsed into a\n",
    "    datetime object\n",
    "    '''\n",
    "    x = x.replace('-','/')\n",
    "    if int(x[-2]) > 3:\n",
    "        x = x[:4] + '19' + x[-2:]\n",
    "    else:\n",
    "        x = x[:4] + '20' + x[-2:]\n",
    "    return x"
   ]
  },
  {
   "cell_type": "code",
   "execution_count": 22,
   "metadata": {},
   "outputs": [],
   "source": [
    "#opening the GPR dataset\n",
    "gpr = pd.read_csv('../Data/additional_data/gpr_countries.csv')\n",
    "gpr.rename(columns={'Date':'date'}, inplace = True)\n",
    "gpr['date'] = gpr['date'].apply(format_date)\n",
    "gpr['date'] = pd.to_datetime(gpr['date'])\n",
    "gpr['date'] = gpr['date'].astype('object')\n",
    "\n",
    "outside = pd.read_csv('../Data/OutsideData.csv')"
   ]
  },
  {
   "cell_type": "code",
   "execution_count": 23,
   "metadata": {},
   "outputs": [],
   "source": [
    "gpr['date'] = pd.to_datetime(gpr['date'])\n",
    "outside['date'] = pd.to_datetime(outside['date'])"
   ]
  },
  {
   "cell_type": "code",
   "execution_count": 24,
   "metadata": {},
   "outputs": [],
   "source": [
    "#concating the two to create the final dataset\n",
    "outside_data = pd.merge(outside, gpr, how = 'left')"
   ]
  },
  {
   "cell_type": "code",
   "execution_count": 25,
   "metadata": {},
   "outputs": [
    {
     "data": {
      "text/html": [
       "<div>\n",
       "<style scoped>\n",
       "    .dataframe tbody tr th:only-of-type {\n",
       "        vertical-align: middle;\n",
       "    }\n",
       "\n",
       "    .dataframe tbody tr th {\n",
       "        vertical-align: top;\n",
       "    }\n",
       "\n",
       "    .dataframe thead th {\n",
       "        text-align: right;\n",
       "    }\n",
       "</style>\n",
       "<table border=\"1\" class=\"dataframe\">\n",
       "  <thead>\n",
       "    <tr style=\"text-align: right;\">\n",
       "      <th></th>\n",
       "      <th>date</th>\n",
       "      <th>employees_oil_extraction</th>\n",
       "      <th>imports</th>\n",
       "      <th>inflation</th>\n",
       "      <th>GPR_TURKEY</th>\n",
       "      <th>GPR_MEXICO</th>\n",
       "      <th>GPR_KOREA</th>\n",
       "      <th>GPR_RUSSIA</th>\n",
       "      <th>GPR_INDIA</th>\n",
       "      <th>GPR_BRAZIL</th>\n",
       "      <th>GPR_CHINA</th>\n",
       "      <th>GPR_INDONESIA</th>\n",
       "      <th>GPR_SAUDI_ARABIA</th>\n",
       "      <th>GPR_SOUTH_AFRICA</th>\n",
       "      <th>GPR_ARGENTINA</th>\n",
       "      <th>GPR_COLOMBIA</th>\n",
       "      <th>GPR_VENEZUELA</th>\n",
       "      <th>GPR_THAILAND</th>\n",
       "      <th>GPR_UKRAINE</th>\n",
       "      <th>GPR_ISRAEL</th>\n",
       "      <th>GPR_MALAYSIA</th>\n",
       "      <th>GPR_PHILIPPINES</th>\n",
       "      <th>GPR_HONG_KONG</th>\n",
       "    </tr>\n",
       "  </thead>\n",
       "  <tbody>\n",
       "    <tr>\n",
       "      <th>586</th>\n",
       "      <td>2020-11-01</td>\n",
       "      <td>139.4</td>\n",
       "      <td>NaN</td>\n",
       "      <td>NaN</td>\n",
       "      <td>105.830160</td>\n",
       "      <td>120.577633</td>\n",
       "      <td>92.987242</td>\n",
       "      <td>114.384703</td>\n",
       "      <td>80.411148</td>\n",
       "      <td>103.899544</td>\n",
       "      <td>136.882552</td>\n",
       "      <td>50.155582</td>\n",
       "      <td>65.022448</td>\n",
       "      <td>92.330456</td>\n",
       "      <td>58.675879</td>\n",
       "      <td>49.863902</td>\n",
       "      <td>98.778690</td>\n",
       "      <td>116.399298</td>\n",
       "      <td>198.549216</td>\n",
       "      <td>80.389557</td>\n",
       "      <td>46.136632</td>\n",
       "      <td>73.521926</td>\n",
       "      <td>203.471093</td>\n",
       "    </tr>\n",
       "    <tr>\n",
       "      <th>587</th>\n",
       "      <td>2020-12-01</td>\n",
       "      <td>139.5</td>\n",
       "      <td>NaN</td>\n",
       "      <td>NaN</td>\n",
       "      <td>85.124259</td>\n",
       "      <td>104.729149</td>\n",
       "      <td>117.483881</td>\n",
       "      <td>106.944362</td>\n",
       "      <td>83.112903</td>\n",
       "      <td>114.303653</td>\n",
       "      <td>138.807620</td>\n",
       "      <td>35.401636</td>\n",
       "      <td>97.054702</td>\n",
       "      <td>72.247458</td>\n",
       "      <td>66.643623</td>\n",
       "      <td>37.178948</td>\n",
       "      <td>87.733713</td>\n",
       "      <td>87.517346</td>\n",
       "      <td>165.840142</td>\n",
       "      <td>74.713905</td>\n",
       "      <td>108.410256</td>\n",
       "      <td>99.036877</td>\n",
       "      <td>202.440951</td>\n",
       "    </tr>\n",
       "    <tr>\n",
       "      <th>588</th>\n",
       "      <td>2021-01-01</td>\n",
       "      <td>133.0</td>\n",
       "      <td>NaN</td>\n",
       "      <td>NaN</td>\n",
       "      <td>117.276018</td>\n",
       "      <td>156.121912</td>\n",
       "      <td>109.809055</td>\n",
       "      <td>127.664855</td>\n",
       "      <td>84.002953</td>\n",
       "      <td>116.901498</td>\n",
       "      <td>141.333000</td>\n",
       "      <td>65.528941</td>\n",
       "      <td>100.736091</td>\n",
       "      <td>100.435826</td>\n",
       "      <td>70.527268</td>\n",
       "      <td>27.311767</td>\n",
       "      <td>88.869979</td>\n",
       "      <td>56.360588</td>\n",
       "      <td>259.116106</td>\n",
       "      <td>58.586234</td>\n",
       "      <td>59.089065</td>\n",
       "      <td>125.678506</td>\n",
       "      <td>201.224089</td>\n",
       "    </tr>\n",
       "    <tr>\n",
       "      <th>589</th>\n",
       "      <td>2021-02-01</td>\n",
       "      <td>132.7</td>\n",
       "      <td>NaN</td>\n",
       "      <td>NaN</td>\n",
       "      <td>73.636251</td>\n",
       "      <td>100.485698</td>\n",
       "      <td>76.973784</td>\n",
       "      <td>123.748078</td>\n",
       "      <td>69.875010</td>\n",
       "      <td>99.541834</td>\n",
       "      <td>126.667242</td>\n",
       "      <td>43.093446</td>\n",
       "      <td>90.078159</td>\n",
       "      <td>61.579600</td>\n",
       "      <td>49.148935</td>\n",
       "      <td>36.352542</td>\n",
       "      <td>69.595940</td>\n",
       "      <td>159.150604</td>\n",
       "      <td>226.745596</td>\n",
       "      <td>50.215048</td>\n",
       "      <td>53.826071</td>\n",
       "      <td>59.882763</td>\n",
       "      <td>179.267786</td>\n",
       "    </tr>\n",
       "    <tr>\n",
       "      <th>590</th>\n",
       "      <td>2021-03-01</td>\n",
       "      <td>133.3</td>\n",
       "      <td>NaN</td>\n",
       "      <td>NaN</td>\n",
       "      <td>82.737284</td>\n",
       "      <td>117.252892</td>\n",
       "      <td>142.811575</td>\n",
       "      <td>123.087580</td>\n",
       "      <td>86.535056</td>\n",
       "      <td>104.742674</td>\n",
       "      <td>137.439652</td>\n",
       "      <td>49.756466</td>\n",
       "      <td>95.671400</td>\n",
       "      <td>43.374098</td>\n",
       "      <td>52.635473</td>\n",
       "      <td>47.350546</td>\n",
       "      <td>81.098390</td>\n",
       "      <td>110.544503</td>\n",
       "      <td>178.320924</td>\n",
       "      <td>49.809270</td>\n",
       "      <td>84.451250</td>\n",
       "      <td>119.765526</td>\n",
       "      <td>185.763652</td>\n",
       "    </tr>\n",
       "  </tbody>\n",
       "</table>\n",
       "</div>"
      ],
      "text/plain": [
       "          date  employees_oil_extraction  imports  inflation  GPR_TURKEY  \\\n",
       "586 2020-11-01                     139.4      NaN        NaN  105.830160   \n",
       "587 2020-12-01                     139.5      NaN        NaN   85.124259   \n",
       "588 2021-01-01                     133.0      NaN        NaN  117.276018   \n",
       "589 2021-02-01                     132.7      NaN        NaN   73.636251   \n",
       "590 2021-03-01                     133.3      NaN        NaN   82.737284   \n",
       "\n",
       "     GPR_MEXICO   GPR_KOREA  GPR_RUSSIA  GPR_INDIA  GPR_BRAZIL   GPR_CHINA  \\\n",
       "586  120.577633   92.987242  114.384703  80.411148  103.899544  136.882552   \n",
       "587  104.729149  117.483881  106.944362  83.112903  114.303653  138.807620   \n",
       "588  156.121912  109.809055  127.664855  84.002953  116.901498  141.333000   \n",
       "589  100.485698   76.973784  123.748078  69.875010   99.541834  126.667242   \n",
       "590  117.252892  142.811575  123.087580  86.535056  104.742674  137.439652   \n",
       "\n",
       "     GPR_INDONESIA  GPR_SAUDI_ARABIA  GPR_SOUTH_AFRICA  GPR_ARGENTINA  \\\n",
       "586      50.155582         65.022448         92.330456      58.675879   \n",
       "587      35.401636         97.054702         72.247458      66.643623   \n",
       "588      65.528941        100.736091        100.435826      70.527268   \n",
       "589      43.093446         90.078159         61.579600      49.148935   \n",
       "590      49.756466         95.671400         43.374098      52.635473   \n",
       "\n",
       "     GPR_COLOMBIA  GPR_VENEZUELA  GPR_THAILAND  GPR_UKRAINE  GPR_ISRAEL  \\\n",
       "586     49.863902      98.778690    116.399298   198.549216   80.389557   \n",
       "587     37.178948      87.733713     87.517346   165.840142   74.713905   \n",
       "588     27.311767      88.869979     56.360588   259.116106   58.586234   \n",
       "589     36.352542      69.595940    159.150604   226.745596   50.215048   \n",
       "590     47.350546      81.098390    110.544503   178.320924   49.809270   \n",
       "\n",
       "     GPR_MALAYSIA  GPR_PHILIPPINES  GPR_HONG_KONG  \n",
       "586     46.136632        73.521926     203.471093  \n",
       "587    108.410256        99.036877     202.440951  \n",
       "588     59.089065       125.678506     201.224089  \n",
       "589     53.826071        59.882763     179.267786  \n",
       "590     84.451250       119.765526     185.763652  "
      ]
     },
     "execution_count": 25,
     "metadata": {},
     "output_type": "execute_result"
    }
   ],
   "source": [
    "outside_data.tail()"
   ]
  },
  {
   "cell_type": "code",
   "execution_count": 26,
   "metadata": {},
   "outputs": [],
   "source": [
    "#saving the final data\n",
    "outside_data.to_csv('../Data/OutsideData.csv')"
   ]
  },
  {
   "cell_type": "code",
   "execution_count": 27,
   "metadata": {},
   "outputs": [],
   "source": [
    "prices = pd.read_csv('../Data/Prices.csv')"
   ]
  },
  {
   "cell_type": "code",
   "execution_count": 28,
   "metadata": {},
   "outputs": [
    {
     "data": {
      "text/plain": [
       "date                     object\n",
       "retail_gas_price        float64\n",
       "regular_gas_price       float64\n",
       "premium_gas_price       float64\n",
       "europe_brent            float64\n",
       "wti                     float64\n",
       "oil_supply              float64\n",
       "crude_oil_production    float64\n",
       "dtype: object"
      ]
     },
     "execution_count": 28,
     "metadata": {},
     "output_type": "execute_result"
    }
   ],
   "source": [
    "prices.dtypes"
   ]
  },
  {
   "cell_type": "code",
   "execution_count": 30,
   "metadata": {},
   "outputs": [
    {
     "data": {
      "text/plain": [
       "date                    datetime64[ns]\n",
       "retail_gas_price               float64\n",
       "regular_gas_price              float64\n",
       "premium_gas_price              float64\n",
       "europe_brent                   float64\n",
       "wti                            float64\n",
       "oil_supply                     float64\n",
       "crude_oil_production           float64\n",
       "dtype: object"
      ]
     },
     "execution_count": 30,
     "metadata": {},
     "output_type": "execute_result"
    }
   ],
   "source": [
    "prices['date'] = pd.to_datetime(prices['date'])\n",
    "prices.dtypes"
   ]
  },
  {
   "cell_type": "code",
   "execution_count": 29,
   "metadata": {},
   "outputs": [
    {
     "data": {
      "text/plain": [
       "date                        datetime64[ns]\n",
       "employees_oil_extraction           float64\n",
       "imports                            float64\n",
       "inflation                          float64\n",
       "GPR_TURKEY                         float64\n",
       "GPR_MEXICO                         float64\n",
       "GPR_KOREA                          float64\n",
       "GPR_RUSSIA                         float64\n",
       "GPR_INDIA                          float64\n",
       "GPR_BRAZIL                         float64\n",
       "GPR_CHINA                          float64\n",
       "GPR_INDONESIA                      float64\n",
       "GPR_SAUDI_ARABIA                   float64\n",
       "GPR_SOUTH_AFRICA                   float64\n",
       "GPR_ARGENTINA                      float64\n",
       "GPR_COLOMBIA                       float64\n",
       "GPR_VENEZUELA                      float64\n",
       "GPR_THAILAND                       float64\n",
       "GPR_UKRAINE                        float64\n",
       "GPR_ISRAEL                         float64\n",
       "GPR_MALAYSIA                       float64\n",
       "GPR_PHILIPPINES                    float64\n",
       "GPR_HONG_KONG                      float64\n",
       "dtype: object"
      ]
     },
     "execution_count": 29,
     "metadata": {},
     "output_type": "execute_result"
    }
   ],
   "source": [
    "outside_data.dtypes"
   ]
  },
  {
   "cell_type": "code",
   "execution_count": null,
   "metadata": {},
   "outputs": [],
   "source": []
  }
 ],
 "metadata": {
  "kernelspec": {
   "display_name": "learn-env",
   "language": "python",
   "name": "learn-env"
  },
  "language_info": {
   "codemirror_mode": {
    "name": "ipython",
    "version": 3
   },
   "file_extension": ".py",
   "mimetype": "text/x-python",
   "name": "python",
   "nbconvert_exporter": "python",
   "pygments_lexer": "ipython3",
   "version": "3.8.5"
  },
  "toc": {
   "base_numbering": 1,
   "nav_menu": {},
   "number_sections": true,
   "sideBar": true,
   "skip_h1_title": false,
   "title_cell": "Table of Contents",
   "title_sidebar": "Contents",
   "toc_cell": false,
   "toc_position": {},
   "toc_section_display": true,
   "toc_window_display": false
  },
  "varInspector": {
   "cols": {
    "lenName": 16,
    "lenType": 16,
    "lenVar": 40
   },
   "kernels_config": {
    "python": {
     "delete_cmd_postfix": "",
     "delete_cmd_prefix": "del ",
     "library": "var_list.py",
     "varRefreshCmd": "print(var_dic_list())"
    },
    "r": {
     "delete_cmd_postfix": ") ",
     "delete_cmd_prefix": "rm(",
     "library": "var_list.r",
     "varRefreshCmd": "cat(var_dic_list()) "
    }
   },
   "types_to_exclude": [
    "module",
    "function",
    "builtin_function_or_method",
    "instance",
    "_Feature"
   ],
   "window_display": false
  }
 },
 "nbformat": 4,
 "nbformat_minor": 4
}
